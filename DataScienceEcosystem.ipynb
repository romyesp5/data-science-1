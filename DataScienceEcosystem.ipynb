{
 "cells": [
  {
   "cell_type": "markdown",
   "id": "c1a5f1da-2985-4ae2-8ba5-0268781be820",
   "metadata": {},
   "source": [
    "# Data Science Tools and Ecosystem"
   ]
  },
  {
   "cell_type": "markdown",
   "id": "3d079100-4b84-4f33-8f7d-f3fc5b6294c2",
   "metadata": {},
   "source": [
    "## Author\n",
    "Romy Milagros Espinoza Vinces"
   ]
  },
  {
   "cell_type": "markdown",
   "id": "322e84f7-8d2d-4dd3-85d5-e76dab2c71a4",
   "metadata": {},
   "source": [
    "In this notebook, Data Science Tools and Ecosystem are summarized."
   ]
  },
  {
   "cell_type": "markdown",
   "id": "539a76ca-caad-4711-878d-43229524ad11",
   "metadata": {},
   "source": [
    "**Objectives:**\n",
    "\n",
    "* List popular languages for Data Science.\n",
    "* List commonly used libraries in Data Science.\n",
    "* List commonly used tools in Data Science.\n",
    "* Demonstrate basic arithmetic operations in Python.\n",
    "* Demonstrate converting units in Python."
   ]
  },
  {
   "cell_type": "markdown",
   "id": "17359407-c8f2-4001-af46-0661acb6f696",
   "metadata": {},
   "source": [
    "Some of the popular languages that Data Scientists use are:\n",
    "1. Python\n",
    "2. R\n",
    "3. Java\n",
    "4. MySQL\n",
    "5. Scala"
   ]
  },
  {
   "cell_type": "markdown",
   "id": "33032280-2c24-43c1-9d2c-45fb79b53ee7",
   "metadata": {},
   "source": [
    "Some of the commonly used libraries used by Data Scientists include:\n",
    "1. Pandas\n",
    "2. Scikit-learn\n",
    "3. Numpy\n",
    "4. Seaborn\n"
   ]
  },
  {
   "cell_type": "markdown",
   "id": "36951936-d03f-4152-8c25-d3296aab2f20",
   "metadata": {},
   "source": [
    "| Category         | Tool              |\n",
    "|------------------|-------------------|\n",
    "| IDE              | Jupyter Notebook  |\n",
    "| IDE              | RStudio           |\n",
    "| Visualization    | Tableau           |\n",
    "| Big Data Tool    | Apache Spark      |\n",
    "| Version Control  | GitHub            |"
   ]
  },
  {
   "cell_type": "markdown",
   "id": "53f630ed-c4ef-43cd-8bcc-22b2ac6139eb",
   "metadata": {},
   "source": [
    "### Below are a few examples of evaluating arithmetic expressions in Python"
   ]
  },
  {
   "cell_type": "markdown",
   "id": "0611175e-f5bb-43b6-ac61-c69289e6e834",
   "metadata": {},
   "source": [
    "This a simple arithmetic expression to mutiply then add integers"
   ]
  },
  {
   "cell_type": "code",
   "execution_count": 8,
   "id": "71bde1c0-355c-40df-9a21-6800c4446af3",
   "metadata": {},
   "outputs": [
    {
     "data": {
      "text/plain": [
       "17"
      ]
     },
     "execution_count": 8,
     "metadata": {},
     "output_type": "execute_result"
    }
   ],
   "source": [
    "(3*4)+5"
   ]
  },
  {
   "cell_type": "markdown",
   "id": "d33529d1-e4c9-4876-9733-276ef3c0aa21",
   "metadata": {},
   "source": [
    "This will convert 200 minutes to hours by dividing by 60."
   ]
  },
  {
   "cell_type": "code",
   "execution_count": 9,
   "id": "51260375-f1eb-4340-97d6-5bdd9828947e",
   "metadata": {},
   "outputs": [
    {
     "data": {
      "text/plain": [
       "3.3333333333333335"
      ]
     },
     "execution_count": 9,
     "metadata": {},
     "output_type": "execute_result"
    }
   ],
   "source": [
    "200 / 60"
   ]
  },
  {
   "cell_type": "code",
   "execution_count": null,
   "id": "7de09e67-3999-4fe2-8dbf-b77c7a28a567",
   "metadata": {},
   "outputs": [],
   "source": []
  }
 ],
 "metadata": {
  "kernelspec": {
   "display_name": "Python 3 (ipykernel)",
   "language": "python",
   "name": "python3"
  },
  "language_info": {
   "codemirror_mode": {
    "name": "ipython",
    "version": 3
   },
   "file_extension": ".py",
   "mimetype": "text/x-python",
   "name": "python",
   "nbconvert_exporter": "python",
   "pygments_lexer": "ipython3",
   "version": "3.12.8"
  }
 },
 "nbformat": 4,
 "nbformat_minor": 5
}
